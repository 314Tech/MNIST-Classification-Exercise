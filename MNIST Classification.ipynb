{
 "cells": [
  {
   "cell_type": "markdown",
   "metadata": {
    "collapsed": true
   },
   "source": [
    "# MNIST Digits Classification  \n",
    "This is my attempt to create an accurate MNIST classifier using a **Decision Tree**, **K Neighbors**, , and a **3 layer NN**. We compare the accuracy of our classifiers at the end of the notebook"
   ]
  },
  {
   "cell_type": "code",
   "execution_count": 60,
   "metadata": {
    "collapsed": false
   },
   "outputs": [
    {
     "name": "stdout",
     "output_type": "stream",
     "text": [
      "dict_keys(['target', 'data', 'target_names', 'images', 'DESCR'])\n"
     ]
    }
   ],
   "source": [
    "import numpy as np\n",
    "from sklearn.datasets import load_digits\n",
    "from sklearn.externals.six import StringIO\n",
    "from sklearn.metrics import accuracy_score\n",
    "from sklearn import tree\n",
    "from sklearn.neighbors import KNeighborsClassifier\n",
    "import pydotplus\n",
    "import matplotlib.pyplot as plt\n",
    "import sys\n",
    "%matplotlib inline\n",
    "\n",
    "digits = load_digits()\n",
    "print(digits.keys())"
   ]
  },
  {
   "cell_type": "markdown",
   "metadata": {},
   "source": [
    "## Exploring the dataset\n",
    "What's in the Digits dataset?"
   ]
  },
  {
   "cell_type": "code",
   "execution_count": 61,
   "metadata": {
    "collapsed": false
   },
   "outputs": [
    {
     "name": "stdout",
     "output_type": "stream",
     "text": [
      "Optical Recognition of Handwritten Digits Data Set\n",
      "===================================================\n",
      "\n",
      "Notes\n",
      "-----\n",
      "Data Set Characteristics:\n",
      "    :Number of Instances: 5620\n",
      "    :Number of Attributes: 64\n",
      "    :Attribute Information: 8x8 image of integer pixels in the range 0..16.\n",
      "    :Missing Attribute Values: None\n",
      "    :Creator: E. Alpaydin (alpaydin '@' boun.edu.tr)\n",
      "    :Date: July; 1998\n",
      "\n",
      "This is a copy of the test set of the UCI ML hand-written digits datasets\n",
      "http://archive.ics.uci.edu/ml/datasets/Optical+Recognition+of+Handwritten+Digits\n",
      "\n",
      "The data set contains images of hand-written digits: 10 classes where\n",
      "each class refers to a digit.\n",
      "\n",
      "Preprocessing programs made available by NIST were used to extract\n",
      "normalized bitmaps of handwritten digits from a preprinted form. From a\n",
      "total of 43 people, 30 contributed to the training set and different 13\n",
      "to the test set. 32x32 bitmaps are divided into nonoverlapping blocks of\n",
      "4x4 and the number of on pixels are counted in each block. This generates\n",
      "an input matrix of 8x8 where each element is an integer in the range\n",
      "0..16. This reduces dimensionality and gives invariance to small\n",
      "distortions.\n",
      "\n",
      "For info on NIST preprocessing routines, see M. D. Garris, J. L. Blue, G.\n",
      "T. Candela, D. L. Dimmick, J. Geist, P. J. Grother, S. A. Janet, and C.\n",
      "L. Wilson, NIST Form-Based Handprint Recognition System, NISTIR 5469,\n",
      "1994.\n",
      "\n",
      "References\n",
      "----------\n",
      "  - C. Kaynak (1995) Methods of Combining Multiple Classifiers and Their\n",
      "    Applications to Handwritten Digit Recognition, MSc Thesis, Institute of\n",
      "    Graduate Studies in Science and Engineering, Bogazici University.\n",
      "  - E. Alpaydin, C. Kaynak (1998) Cascading Classifiers, Kybernetika.\n",
      "  - Ken Tang and Ponnuthurai N. Suganthan and Xi Yao and A. Kai Qin.\n",
      "    Linear dimensionalityreduction using relevance weighted LDA. School of\n",
      "    Electrical and Electronic Engineering Nanyang Technological University.\n",
      "    2005.\n",
      "  - Claudio Gentile. A New Approximate Maximal Margin Classification\n",
      "    Algorithm. NIPS. 2000.\n",
      "\n"
     ]
    }
   ],
   "source": [
    "print(digits[\"DESCR\"])"
   ]
  },
  {
   "cell_type": "markdown",
   "metadata": {},
   "source": [
    "Let's get some parameters to help"
   ]
  },
  {
   "cell_type": "code",
   "execution_count": 62,
   "metadata": {
    "collapsed": false
   },
   "outputs": [
    {
     "name": "stdout",
     "output_type": "stream",
     "text": [
      "data_size: 1797\n",
      "target_size: 1797\n"
     ]
    }
   ],
   "source": [
    "data_size = len(digits['data'])\n",
    "target_size = len(digits['target'])\n",
    "test_idx = [0, 50, 100]\n",
    "print(\"data_size: {}\".format(data_size))\n",
    "print(\"target_size: {}\".format(target_size))"
   ]
  },
  {
   "cell_type": "markdown",
   "metadata": {},
   "source": [
    "What are our featuree?"
   ]
  },
  {
   "cell_type": "code",
   "execution_count": 63,
   "metadata": {
    "collapsed": false
   },
   "outputs": [
    {
     "name": "stdout",
     "output_type": "stream",
     "text": [
      "[[[  0.   0.   5. ...,   1.   0.   0.]\n",
      "  [  0.   0.  13. ...,  15.   5.   0.]\n",
      "  [  0.   3.  15. ...,  11.   8.   0.]\n",
      "  ..., \n",
      "  [  0.   4.  11. ...,  12.   7.   0.]\n",
      "  [  0.   2.  14. ...,  12.   0.   0.]\n",
      "  [  0.   0.   6. ...,   0.   0.   0.]]\n",
      "\n",
      " [[  0.   0.   0. ...,   5.   0.   0.]\n",
      "  [  0.   0.   0. ...,   9.   0.   0.]\n",
      "  [  0.   0.   3. ...,   6.   0.   0.]\n",
      "  ..., \n",
      "  [  0.   0.   1. ...,   6.   0.   0.]\n",
      "  [  0.   0.   1. ...,   6.   0.   0.]\n",
      "  [  0.   0.   0. ...,  10.   0.   0.]]\n",
      "\n",
      " [[  0.   0.   0. ...,  12.   0.   0.]\n",
      "  [  0.   0.   3. ...,  14.   0.   0.]\n",
      "  [  0.   0.   8. ...,  16.   0.   0.]\n",
      "  ..., \n",
      "  [  0.   9.  16. ...,   0.   0.   0.]\n",
      "  [  0.   3.  13. ...,  11.   5.   0.]\n",
      "  [  0.   0.   0. ...,  16.   9.   0.]]\n",
      "\n",
      " ..., \n",
      " [[  0.   0.   1. ...,   1.   0.   0.]\n",
      "  [  0.   0.  13. ...,   2.   1.   0.]\n",
      "  [  0.   0.  16. ...,  16.   5.   0.]\n",
      "  ..., \n",
      "  [  0.   0.  16. ...,  15.   0.   0.]\n",
      "  [  0.   0.  15. ...,  16.   0.   0.]\n",
      "  [  0.   0.   2. ...,   6.   0.   0.]]\n",
      "\n",
      " [[  0.   0.   2. ...,   0.   0.   0.]\n",
      "  [  0.   0.  14. ...,  15.   1.   0.]\n",
      "  [  0.   4.  16. ...,  16.   7.   0.]\n",
      "  ..., \n",
      "  [  0.   0.   0. ...,  16.   2.   0.]\n",
      "  [  0.   0.   4. ...,  16.   2.   0.]\n",
      "  [  0.   0.   5. ...,  12.   0.   0.]]\n",
      "\n",
      " [[  0.   0.  10. ...,   1.   0.   0.]\n",
      "  [  0.   2.  16. ...,   1.   0.   0.]\n",
      "  [  0.   0.  15. ...,  15.   0.   0.]\n",
      "  ..., \n",
      "  [  0.   4.  16. ...,  16.   6.   0.]\n",
      "  [  0.   8.  16. ...,  16.   8.   0.]\n",
      "  [  0.   1.   8. ...,  12.   1.   0.]]]\n"
     ]
    }
   ],
   "source": [
    "print(digits.images)"
   ]
  },
  {
   "cell_type": "markdown",
   "metadata": {},
   "source": [
    "Exploring the targets"
   ]
  },
  {
   "cell_type": "code",
   "execution_count": 64,
   "metadata": {
    "collapsed": false
   },
   "outputs": [
    {
     "name": "stdout",
     "output_type": "stream",
     "text": [
      "[0 1 2 ..., 8 9 8]\n"
     ]
    }
   ],
   "source": [
    "print(digits.target)"
   ]
  },
  {
   "cell_type": "code",
   "execution_count": 65,
   "metadata": {
    "collapsed": false
   },
   "outputs": [
    {
     "name": "stdout",
     "output_type": "stream",
     "text": [
      "[[  0.   0.   5. ...,   0.   0.   0.]\n",
      " [  0.   0.   0. ...,  10.   0.   0.]\n",
      " [  0.   0.   0. ...,  16.   9.   0.]\n",
      " ..., \n",
      " [  0.   0.   1. ...,   6.   0.   0.]\n",
      " [  0.   0.   2. ...,  12.   0.   0.]\n",
      " [  0.   0.  10. ...,  12.   1.   0.]]\n"
     ]
    }
   ],
   "source": [
    "print(digits.data)"
   ]
  },
  {
   "cell_type": "markdown",
   "metadata": {},
   "source": [
    "## Visualizing the input images"
   ]
  },
  {
   "cell_type": "code",
   "execution_count": 66,
   "metadata": {
    "collapsed": false
   },
   "outputs": [
    {
     "name": "stdout",
     "output_type": "stream",
     "text": [
      "5\n"
     ]
    },
    {
     "data": {
      "text/plain": [
       "<matplotlib.figure.Figure at 0x12bb4fd68>"
      ]
     },
     "metadata": {},
     "output_type": "display_data"
    },
    {
     "data": {
      "image/png": "[encoded data removed]",
      "text/plain": [
       "<matplotlib.figure.Figure at 0x12bb4fcc0>"
      ]
     },
     "metadata": {},
     "output_type": "display_data"
    }
   ],
   "source": [
    "plt.gray() \n",
    "index = 46\n",
    "print(digits.target[index])\n",
    "plt.matshow(digits.images[index]) \n",
    "plt.show() "
   ]
  },
  {
   "cell_type": "markdown",
   "metadata": {},
   "source": [
    "## Training data"
   ]
  },
  {
   "cell_type": "code",
   "execution_count": 67,
   "metadata": {
    "collapsed": false
   },
   "outputs": [],
   "source": [
    "percent = 80\n",
    "percent_index = int((data_size*80)/100)\n",
    "train_data = digits.data[:percent_index]\n",
    "train_target = digits.target[:percent_index]"
   ]
  },
  {
   "cell_type": "markdown",
   "metadata": {},
   "source": [
    "## Testing Data"
   ]
  },
  {
   "cell_type": "code",
   "execution_count": 68,
   "metadata": {
    "collapsed": false
   },
   "outputs": [],
   "source": [
    "test_target = digits.target[percent_index+1:target_size]\n",
    "test_data = digits.data[percent_index+1:data_size]"
   ]
  },
  {
   "cell_type": "markdown",
   "metadata": {},
   "source": [
    "# 2. Classification using Decision Trees"
   ]
  },
  {
   "cell_type": "code",
   "execution_count": 69,
   "metadata": {
    "collapsed": false
   },
   "outputs": [
    {
     "name": "stdout",
     "output_type": "stream",
     "text": [
      "Accuracy: 78.55%\n"
     ]
    }
   ],
   "source": [
    "clf = tree.DecisionTreeClassifier()\n",
    "clf = clf.fit(train_data, train_target)\n",
    "# Test our data\n",
    "prediction = clf.predict(test_data)\n",
    "# Calculate the accuracy of the prediction\n",
    "decision_tree_accuracy = accuracy_score(test_target, prediction)*100\n",
    "print(\"Accuracy: {0:.2f}%\".format(decision_tree_accuracy))"
   ]
  },
  {
   "cell_type": "markdown",
   "metadata": {},
   "source": [
    "# 3. Classification using K Neighbors"
   ]
  },
  {
   "cell_type": "code",
   "execution_count": 70,
   "metadata": {
    "collapsed": false
   },
   "outputs": [
    {
     "name": "stdout",
     "output_type": "stream",
     "text": [
      "Accuracy: 96.38%\n"
     ]
    }
   ],
   "source": [
    "clf = KNeighborsClassifier()\n",
    "clf = clf.fit(train_data, train_target)\n",
    "# Test our data\n",
    "prediction = clf.predict(test_data)\n",
    "# Calculate the accuracy of the prediction\n",
    "k_neighbors_accuracy = accuracy_score(test_target, prediction)*100\n",
    "print(\"Accuracy: {0:.2f}%\".format(k_neighbors_accuracy))"
   ]
  },
  {
   "cell_type": "markdown",
   "metadata": {},
   "source": [
    "# 4. Using our own kNN classifier\n",
    "Let's now implement our own classifier. We will package it in a class of its own. We need 2 public functions to make it a classifier: *fit()* and *predict()*\n",
    "\n",
    "Our classifier is modeled after a K Neighbours algorithm. Here's a short video explaining how kNNs work:"
   ]
  },
  {
   "cell_type": "code",
   "execution_count": 71,
   "metadata": {
    "collapsed": false
   },
   "outputs": [
    {
     "data": {
      "text/html": [
       "<div style=\"position:relative;height:0;padding-bottom:56.25%\"><iframe src=\"https://www.youtube.com/embed/UqYde-LULfs?ecver=2\" width=\"320\" height=\"180\" frameborder=\"0\" style=\"position:absolute;width:100%;height:100%;left:0\" allowfullscreen></iframe></div>"
      ],
      "text/plain": [
       "<IPython.core.display.HTML object>"
      ]
     },
     "execution_count": 71,
     "metadata": {},
     "output_type": "execute_result"
    }
   ],
   "source": [
    "from IPython.display import HTML\n",
    "\n",
    "# Youtube\n",
    "HTML('<div style=\"position:relative;height:0;padding-bottom:56.25%\"><iframe src=\"https://www.youtube.com/embed/UqYde-LULfs?ecver=2\" width=\"320\" height=\"180\" frameborder=\"0\" style=\"position:absolute;width:100%;height:100%;left:0\" allowfullscreen></iframe></div>')"
   ]
  },
  {
   "cell_type": "code",
   "execution_count": 72,
   "metadata": {
    "collapsed": false
   },
   "outputs": [],
   "source": [
    "import random\n",
    "from scipy.spatial import distance\n",
    "# Our classifie\n",
    "class OurClassifier():\n",
    "    def fit(self, x, y):\n",
    "        self.x = x\n",
    "        self.y = y\n",
    "        return self\n",
    "    \n",
    "    #Meaduring the distance between 2 points\n",
    "    def euclidien_distance(self, a, b):\n",
    "        return distance.euclidean(a,b)\n",
    "    \n",
    "    def closest(self, a):\n",
    "        min_distance = self.euclidien_distance(self.x[0],a)\n",
    "        min_y = self.y[0]\n",
    "        for index in range(1,len(self.x)):\n",
    "            distance = self.euclidien_distance(self.x[index],a)\n",
    "            if distance < min_distance:\n",
    "                min_distance = distance\n",
    "                min_y = self.y[index]\n",
    "        return min_y\n",
    "\n",
    "    def predict(self, x):\n",
    "        predictions = []\n",
    "        for row in x:\n",
    "            label = self.closest(row)\n",
    "            predictions.append(label)\n",
    "        return predictions\n",
    "    \n",
    "    "
   ]
  },
  {
   "cell_type": "markdown",
   "metadata": {},
   "source": [
    "Let's test its accuracy with our MNIST dataset"
   ]
  },
  {
   "cell_type": "code",
   "execution_count": 73,
   "metadata": {
    "collapsed": false,
    "scrolled": false
   },
   "outputs": [
    {
     "name": "stdout",
     "output_type": "stream",
     "text": [
      "Accuracy: 95.54%\n"
     ]
    }
   ],
   "source": [
    "clf = OurClassifier()\n",
    "clf = clf.fit(train_data, train_target)\n",
    "# Test our data\n",
    "prediction = clf.predict(test_data)\n",
    "# Calculate the accuracy of the prediction\n",
    "k_neighbors_accuracy = accuracy_score(test_target, prediction)*100\n",
    "print(\"Accuracy: {0:.2f}%\".format(k_neighbors_accuracy))"
   ]
  },
  {
   "cell_type": "markdown",
   "metadata": {},
   "source": [
    "# Plot the decision tree graph\n",
    "We plot the decixion graph in a PDF file"
   ]
  },
  {
   "cell_type": "code",
   "execution_count": 74,
   "metadata": {
    "collapsed": false
   },
   "outputs": [
    {
     "ename": "AttributeError",
     "evalue": "'OurClassifier' object has no attribute 'tree_'",
     "output_type": "error",
     "traceback": [
      "\u001b[0;31m---------------------------------------------------------------------------\u001b[0m",
      "\u001b[0;31mAttributeError\u001b[0m                            Traceback (most recent call last)",
      "\u001b[0;32m<ipython-input-74-3d1ab0029e47>\u001b[0m in \u001b[0;36m<module>\u001b[0;34m()\u001b[0m\n\u001b[1;32m     12\u001b[0m                     \u001b[0mfilled\u001b[0m\u001b[0;34m=\u001b[0m\u001b[0;32mTrue\u001b[0m\u001b[0;34m,\u001b[0m\u001b[0;34m\u001b[0m\u001b[0m\n\u001b[1;32m     13\u001b[0m                     \u001b[0mrounded\u001b[0m\u001b[0;34m=\u001b[0m\u001b[0;32mTrue\u001b[0m\u001b[0;34m,\u001b[0m\u001b[0;34m\u001b[0m\u001b[0m\n\u001b[0;32m---> 14\u001b[0;31m                     impurity=False)\n\u001b[0m\u001b[1;32m     15\u001b[0m \u001b[0mgraph\u001b[0m \u001b[0;34m=\u001b[0m \u001b[0mpydotplus\u001b[0m\u001b[0;34m.\u001b[0m\u001b[0mgraph_from_dot_data\u001b[0m\u001b[0;34m(\u001b[0m\u001b[0mdot_data\u001b[0m\u001b[0;34m.\u001b[0m\u001b[0mgetvalue\u001b[0m\u001b[0;34m(\u001b[0m\u001b[0;34m)\u001b[0m\u001b[0;34m)\u001b[0m\u001b[0;34m\u001b[0m\u001b[0m\n\u001b[1;32m     16\u001b[0m \u001b[0mgraph\u001b[0m\u001b[0;34m.\u001b[0m\u001b[0mwrite_pdf\u001b[0m\u001b[0;34m(\u001b[0m\u001b[0;34m'digits.pdf'\u001b[0m\u001b[0;34m)\u001b[0m\u001b[0;34m\u001b[0m\u001b[0m\n",
      "\u001b[0;32m/Users/nabylbennouri/anaconda/envs/tensorflow/lib/python3.5/site-packages/sklearn/tree/export.py\u001b[0m in \u001b[0;36mexport_graphviz\u001b[0;34m(decision_tree, out_file, max_depth, feature_names, class_names, label, filled, leaves_parallel, impurity, node_ids, proportion, rotate, rounded, special_characters)\u001b[0m\n\u001b[1;32m    431\u001b[0m             \u001b[0mrecurse\u001b[0m\u001b[0;34m(\u001b[0m\u001b[0mdecision_tree\u001b[0m\u001b[0;34m,\u001b[0m \u001b[0;36m0\u001b[0m\u001b[0;34m,\u001b[0m \u001b[0mcriterion\u001b[0m\u001b[0;34m=\u001b[0m\u001b[0;34m\"impurity\"\u001b[0m\u001b[0;34m)\u001b[0m\u001b[0;34m\u001b[0m\u001b[0m\n\u001b[1;32m    432\u001b[0m         \u001b[0;32melse\u001b[0m\u001b[0;34m:\u001b[0m\u001b[0;34m\u001b[0m\u001b[0m\n\u001b[0;32m--> 433\u001b[0;31m             \u001b[0mrecurse\u001b[0m\u001b[0;34m(\u001b[0m\u001b[0mdecision_tree\u001b[0m\u001b[0;34m.\u001b[0m\u001b[0mtree_\u001b[0m\u001b[0;34m,\u001b[0m \u001b[0;36m0\u001b[0m\u001b[0;34m,\u001b[0m \u001b[0mcriterion\u001b[0m\u001b[0;34m=\u001b[0m\u001b[0mdecision_tree\u001b[0m\u001b[0;34m.\u001b[0m\u001b[0mcriterion\u001b[0m\u001b[0;34m)\u001b[0m\u001b[0;34m\u001b[0m\u001b[0m\n\u001b[0m\u001b[1;32m    434\u001b[0m \u001b[0;34m\u001b[0m\u001b[0m\n\u001b[1;32m    435\u001b[0m         \u001b[0;31m# If required, draw leaf nodes at same depth as each other\u001b[0m\u001b[0;34m\u001b[0m\u001b[0;34m\u001b[0m\u001b[0m\n",
      "\u001b[0;31mAttributeError\u001b[0m: 'OurClassifier' object has no attribute 'tree_'"
     ]
    }
   ],
   "source": [
    "feature_names = [None]*64\n",
    "for i in range(64):\n",
    "    feature_names[i] = \"digit{}\".format(i+1)\n",
    "label_names = [None]*10\n",
    "for i in range(10):\n",
    "    label_names[i] = \"{}\".format(i)\n",
    "dot_data = StringIO()\n",
    "tree.export_graphviz(clf, \n",
    "                    out_file=dot_data,\n",
    "                    feature_names=feature_names,\n",
    "                    class_names=label_names,\n",
    "                    filled=True,\n",
    "                    rounded=True,\n",
    "                    impurity=False)\n",
    "graph = pydotplus.graph_from_dot_data(dot_data.getvalue())\n",
    "graph.write_pdf('digits.pdf')\n",
    "\n",
    "                            "
   ]
  },
  {
   "cell_type": "markdown",
   "metadata": {},
   "source": [
    "# 5. 1 Layer Neural Network"
   ]
  },
  {
   "cell_type": "markdown",
   "metadata": {},
   "source": [
    "We have to One Hot Encode our labels:"
   ]
  },
  {
   "cell_type": "code",
   "execution_count": 75,
   "metadata": {
    "collapsed": false
   },
   "outputs": [
    {
     "name": "stdout",
     "output_type": "stream",
     "text": [
      "[1, 0, 0, 0, 0, 0, 0, 0, 0, 0] 0\n",
      "[0, 1, 0, 0, 0, 0, 0, 0, 0, 0] 1\n",
      "[0, 0, 1, 0, 0, 0, 0, 0, 0, 0] 2\n",
      "[0, 0, 0, 1, 0, 0, 0, 0, 0, 0] 3\n",
      "[0, 0, 0, 0, 1, 0, 0, 0, 0, 0] 4\n",
      "[0, 0, 0, 0, 0, 1, 0, 0, 0, 0] 5\n",
      "[0, 0, 0, 0, 0, 0, 1, 0, 0, 0] 6\n",
      "[0, 0, 0, 0, 0, 0, 0, 1, 0, 0] 7\n",
      "[0, 0, 0, 0, 0, 0, 0, 0, 1, 0] 8\n",
      "[0, 0, 0, 0, 0, 0, 0, 0, 0, 1] 9\n",
      "[1, 0, 0, 0, 0, 0, 0, 0, 0, 0] 0\n",
      "[0, 1, 0, 0, 0, 0, 0, 0, 0, 0] 1\n",
      "[0, 0, 1, 0, 0, 0, 0, 0, 0, 0] 2\n",
      "[0, 0, 0, 1, 0, 0, 0, 0, 0, 0] 3\n",
      "[0, 0, 0, 0, 1, 0, 0, 0, 0, 0] 4\n",
      "[0, 0, 0, 0, 0, 1, 0, 0, 0, 0] 5\n",
      "[0, 0, 0, 0, 0, 0, 1, 0, 0, 0] 6\n",
      "[0, 0, 0, 0, 0, 0, 0, 1, 0, 0] 7\n",
      "[0, 0, 0, 0, 0, 0, 0, 0, 1, 0] 8\n",
      "[0, 0, 0, 0, 0, 0, 0, 0, 0, 1] 9\n",
      "[1, 0, 0, 0, 0, 0, 0, 0, 0, 0] 0\n",
      "[0, 1, 0, 0, 0, 0, 0, 0, 0, 0] 1\n",
      "[0, 0, 1, 0, 0, 0, 0, 0, 0, 0] 2\n",
      "[0, 0, 0, 1, 0, 0, 0, 0, 0, 0] 3\n",
      "[0, 0, 0, 0, 1, 0, 0, 0, 0, 0] 4\n",
      "[0, 0, 0, 0, 0, 1, 0, 0, 0, 0] 5\n",
      "[0, 0, 0, 0, 0, 0, 1, 0, 0, 0] 6\n",
      "[0, 0, 0, 0, 0, 0, 0, 1, 0, 0] 7\n",
      "[0, 0, 0, 0, 0, 0, 0, 0, 1, 0] 8\n",
      "[0, 0, 0, 0, 0, 0, 0, 0, 0, 1] 9\n",
      "[1, 0, 0, 0, 0, 0, 0, 0, 0, 0] 0\n",
      "[0, 0, 0, 0, 0, 0, 0, 0, 0, 1] 9\n",
      "[0, 0, 0, 0, 0, 1, 0, 0, 0, 0] 5\n",
      "[0, 0, 0, 0, 0, 1, 0, 0, 0, 0] 5\n",
      "[0, 0, 0, 0, 0, 0, 1, 0, 0, 0] 6\n",
      "[0, 0, 0, 0, 0, 1, 0, 0, 0, 0] 5\n",
      "[1, 0, 0, 0, 0, 0, 0, 0, 0, 0] 0\n",
      "[0, 0, 0, 0, 0, 0, 0, 0, 0, 1] 9\n",
      "[0, 0, 0, 0, 0, 0, 0, 0, 1, 0] 8\n",
      "[0, 0, 0, 0, 0, 0, 0, 0, 0, 1] 9\n"
     ]
    }
   ],
   "source": [
    "train_labels = [0]*len(train_target)\n",
    "for index in range(len(train_target)):\n",
    "    train_labels[index] = [0]*10\n",
    "    train_labels[index][train_target[index]] = 1\n",
    "\n",
    "test_labels = [0]*len(test_target)\n",
    "for index in range(len(test_target)):\n",
    "    test_labels[index] = [0]*10\n",
    "    test_labels[index][test_target[index]] = 1\n",
    "\n",
    "for i in range(40):\n",
    "    print(train_labels[i],train_target[i])"
   ]
  },
  {
   "cell_type": "code",
   "execution_count": 89,
   "metadata": {
    "collapsed": true
   },
   "outputs": [],
   "source": [
    "import tensorflow as tf\n",
    "\n",
    "# Parameters\n",
    "learning_rate = 0.5\n",
    "training_iters = 100\n",
    "batch_size = 200\n",
    "display_step = 10\n",
    "\n",
    "# Network Parameters\n",
    "n_input = 64 # MNIST data input (img shape: 8*8)\n",
    "n_classes = 10 # MNIST total classes (0-9 digits)\n",
    "\n",
    "# Making the graph interactive\n",
    "# Creating the graph\n",
    "x = tf.placeholder(tf.float32, [None, n_input], name=\"x\");\n",
    "y_ = tf.placeholder(tf.float32, shape=[None, 10], name=\"y_\")\n",
    "\n",
    "w = tf.Variable(tf.zeros([n_input,n_classes]), name=\"w\");\n",
    "b = tf.Variable(tf.zeros([n_classes]), name=\"b\");\n",
    "\n",
    "y = tf.add(tf.matmul(x,w),b)"
   ]
  },
  {
   "cell_type": "markdown",
   "metadata": {},
   "source": [
    "Explore the graph"
   ]
  },
  {
   "cell_type": "code",
   "execution_count": 90,
   "metadata": {
    "collapsed": false
   },
   "outputs": [
    {
     "name": "stdout",
     "output_type": "stream",
     "text": [
      "Tensor(\"x_4:0\", shape=(?, 64), dtype=float32)\n",
      "[1, 0, 0, 0, 0, 0, 0, 0, 0, 0]\n"
     ]
    }
   ],
   "source": [
    "print(x)\n",
    "print(train_labels[0])\n",
    "#tf.get_default_graph().as_graph_def()"
   ]
  },
  {
   "cell_type": "markdown",
   "metadata": {},
   "source": [
    "Create the model"
   ]
  },
  {
   "cell_type": "code",
   "execution_count": 108,
   "metadata": {
    "collapsed": false
   },
   "outputs": [],
   "source": [
    "sess = tf.Session()\n",
    "def get_weights():\n",
    "    return w.eval(session=sess)\n",
    "\n",
    "def predict_1layer_nn(data):\n",
    "    # Predict\n",
    "    feed_dict = {x: data}\n",
    "    return sess.run(tf.arg_max(y,1)[0], feed_dict=feed_dict)\n",
    "\n",
    "def train_1layer_nn():\n",
    "    cross_entropy = tf.reduce_mean(tf.nn.softmax_cross_entropy_with_logits(labels=y_, logits=y))\n",
    "    train_step = tf.train.GradientDescentOptimizer(learning_rate).minimize(cross_entropy)\n",
    "\n",
    "    correct_prediction = tf.equal(tf.argmax(y,1), tf.argmax(y_,1));\n",
    "    accuracy = tf.reduce_mean(tf.cast(correct_prediction, tf.float32));\n",
    "\n",
    "\n",
    "    # Initializing the variables\n",
    "    init = tf.global_variables_initializer()\n",
    "    tf.train.Saver()\n",
    "    # Train\n",
    "    sess.run(init);\n",
    "    sys.stdout.write(\"\\n\")\n",
    "    for index in range(len(train_data)//batch_size):\n",
    "        for step in range(training_iters):\n",
    "            batch_x = train_data[index*batch_size:(index+1)*batch_size]\n",
    "            batch_y = train_labels[index*batch_size:(index+1)*batch_size]\n",
    "            train_step.run(feed_dict={x: batch_x, y_: batch_y},session=sess)\n",
    "\n",
    "\n",
    "            if (step%display_step):\n",
    "                sys.stdout.write(\"Model Training Accuracy: {0:.2f}%\\r\".format(accuracy.eval(feed_dict={x: batch_x, y_: batch_y}, session=sess)*100))\n",
    "\n",
    "    # Test\n",
    "    sys.stdout.write(\"\\n\")\n",
    "    return accuracy.eval(feed_dict={x: test_data, y_: test_labels},session=sess)*100\n",
    "       "
   ]
  },
  {
   "cell_type": "code",
   "execution_count": 109,
   "metadata": {
    "collapsed": false
   },
   "outputs": [
    {
     "name": "stdout",
     "output_type": "stream",
     "text": [
      "\n",
      "Model Training Accuracy: 100.00%\n",
      "Testing Accuracy: 86.63%"
     ]
    }
   ],
   "source": [
    "sys.stdout.write(\"Testing Accuracy: {0:.2f}%\".format(train_1layer_nn()))\n",
    " "
   ]
  },
  {
   "cell_type": "markdown",
   "metadata": {},
   "source": [
    "Let's test some elements"
   ]
  },
  {
   "cell_type": "code",
   "execution_count": 110,
   "metadata": {
    "collapsed": false
   },
   "outputs": [
    {
     "data": {
      "image/png": "[encoded data removed]",
      "text/plain": [
       "<matplotlib.figure.Figure at 0x12a4b04a8>"
      ]
     },
     "metadata": {},
     "output_type": "display_data"
    },
    {
     "name": "stdout",
     "output_type": "stream",
     "text": [
      "True Value: 6\n",
      "\n",
      "Predicted : 6\n",
      "\n"
     ]
    }
   ],
   "source": [
    "# Predict\n",
    "index = 6\n",
    "plt.matshow(digits.images[index]) \n",
    "plt.show() \n",
    "print(\"True Value: {}\\n\".format(digits.target[index]))\n",
    "print(\"Predicted : {}\\n\".format(predict_1layer_nn([digits.data[index]])))\n"
   ]
  },
  {
   "cell_type": "code",
   "execution_count": 111,
   "metadata": {
    "collapsed": false
   },
   "outputs": [],
   "source": [
    "# Find errors in prediction\n",
    "errors = []\n",
    "for index in range (len(test_data)):\n",
    "    if (test_target[index] != predict_1layer_nn([test_data[index]])):\n",
    "        errors.append(index)\n"
   ]
  },
  {
   "cell_type": "code",
   "execution_count": 114,
   "metadata": {
    "collapsed": false
   },
   "outputs": [
    {
     "data": {
      "image/png": "[encoded data removed]",
      "text/plain": [
       "<matplotlib.figure.Figure at 0x1273ba5f8>"
      ]
     },
     "metadata": {},
     "output_type": "display_data"
    }
   ],
   "source": [
    "f, axes = plt.subplots(2, 5, figsize=(10,4))\n",
    "axes = axes.reshape(-1)\n",
    "for i in range(len(axes)):\n",
    "    a = axes[i]\n",
    "    a.imshow(get_weights().T[i].reshape(8, 8), cmap=plt.cm.seismic)\n",
    "    a.set_title(digits.target[i])\n",
    "    a.set_xticks(()) # ticks be gone\n",
    "    a.set_yticks(())\n",
    "plt.show()"
   ]
  },
  {
   "cell_type": "markdown",
   "metadata": {},
   "source": [
    "Display all pictures that were predicted wrong."
   ]
  },
  {
   "cell_type": "code",
   "execution_count": 99,
   "metadata": {
    "collapsed": false
   },
   "outputs": [
    {
     "data": {
      "image/png": "[encoded data removed]",
      "text/plain": [
       "<matplotlib.figure.Figure at 0x121f3dc50>"
      ]
     },
     "metadata": {},
     "output_type": "display_data"
    }
   ],
   "source": [
    "f, axes = plt.subplots(5, 10, figsize=(20,10))\n",
    "axes = axes.reshape(-1)\n",
    "for i in range(len(errors)):\n",
    "    a = axes[i]\n",
    "    a.matshow(digits.images[errors[i]+percent_index+1], cmap=plt.cm.seismic) \n",
    "#    a.imshow(weights.T[i].reshape(28, 28), cmap=plt.cm.seismic)\n",
    "    a.set_title(predict_1layer_nn([test_data[errors[i]]]))\n",
    "    a.set_xticks(()) # ticks be gone\n",
    "    a.set_yticks(())\n",
    "plt.show()"
   ]
  },
  {
   "cell_type": "markdown",
   "metadata": {},
   "source": [
    "## Using TFLearn"
   ]
  },
  {
   "cell_type": "code",
   "execution_count": 25,
   "metadata": {
    "collapsed": true
   },
   "outputs": [],
   "source": [
    "learn = tf.contrib.learn\n",
    "tf.logging.set_verbosity(tf.logging.ERROR)"
   ]
  },
  {
   "cell_type": "markdown",
   "metadata": {},
   "source": [
    "### Import the dataset"
   ]
  },
  {
   "cell_type": "code",
   "execution_count": 27,
   "metadata": {
    "collapsed": false
   },
   "outputs": [
    {
     "name": "stdout",
     "output_type": "stream",
     "text": [
      "Extracting MNIST-data/train-images-idx3-ubyte.gz\n",
      "Extracting MNIST-data/train-labels-idx1-ubyte.gz\n",
      "Extracting MNIST-data/t10k-images-idx3-ubyte.gz\n",
      "Extracting MNIST-data/t10k-labels-idx1-ubyte.gz\n"
     ]
    }
   ],
   "source": [
    "mnist = learn.datasets.load_dataset('mnist')\n",
    "data = mnist.train.images\n",
    "labels = np.asarray(mnist.train.labels, dtype=np.int32)\n",
    "tf_test_data = mnist.test.images\n",
    "tf_test_labels = np.asarray(mnist.test.labels, dtype=np.int32)"
   ]
  },
  {
   "cell_type": "markdown",
   "metadata": {},
   "source": [
    "### Display some data"
   ]
  },
  {
   "cell_type": "code",
   "execution_count": 37,
   "metadata": {
    "collapsed": true
   },
   "outputs": [],
   "source": [
    "def display(i):\n",
    "    img = test_data[i]\n",
    "    plt.title('Example %d. Label: %d' % (i, tf_test_labels[i]))\n",
    "    plt.imshow(img.reshape((28,28)), cmap=plt.cm.gray_r)"
   ]
  },
  {
   "cell_type": "code",
   "execution_count": 38,
   "metadata": {
    "collapsed": false
   },
   "outputs": [
    {
     "data": {
      "image/png": "[encoded data removed]",
      "text/plain": [
       "<matplotlib.figure.Figure at 0x11e5c2828>"
      ]
     },
     "metadata": {},
     "output_type": "display_data"
    }
   ],
   "source": [
    "display(1)"
   ]
  },
  {
   "cell_type": "markdown",
   "metadata": {},
   "source": [
    "### Linear Classifier"
   ]
  },
  {
   "cell_type": "code",
   "execution_count": 44,
   "metadata": {
    "collapsed": false
   },
   "outputs": [
    {
     "name": "stderr",
     "output_type": "stream",
     "text": [
      "/Users/nabylbennouri/anaconda/envs/tensorflow/lib/python3.5/site-packages/tensorflow/python/util/deprecation.py:247: FutureWarning: comparison to `None` will result in an elementwise object comparison in the future.\n",
      "  equality = a == b\n"
     ]
    },
    {
     "data": {
      "text/plain": [
       "LinearClassifier(params={'feature_columns': [_RealValuedColumn(column_name='', dimension=784, default_value=None, dtype=tf.float32, normalizer=None)], 'joint_weights': False, 'head': <tensorflow.contrib.learn.python.learn.estimators.head._MultiClassHead object at 0x11e1d6668>, 'optimizer': None, 'gradient_clip_norm': None})"
      ]
     },
     "execution_count": 44,
     "metadata": {},
     "output_type": "execute_result"
    }
   ],
   "source": [
    "feature_columns = learn.infer_real_valued_columns_from_input(data)\n",
    "classifier = learn.LinearClassifier(feature_columns=feature_columns, n_classes=10)\n",
    "classifier.fit(data, labels, batch_size=100, steps=1000)"
   ]
  },
  {
   "cell_type": "markdown",
   "metadata": {},
   "source": [
    "### Evaluate the classifier"
   ]
  },
  {
   "cell_type": "code",
   "execution_count": 45,
   "metadata": {
    "collapsed": false
   },
   "outputs": [
    {
     "name": "stderr",
     "output_type": "stream",
     "text": [
      "/Users/nabylbennouri/anaconda/envs/tensorflow/lib/python3.5/site-packages/tensorflow/python/util/deprecation.py:247: FutureWarning: comparison to `None` will result in an elementwise object comparison in the future.\n",
      "  equality = a == b\n"
     ]
    },
    {
     "name": "stdout",
     "output_type": "stream",
     "text": [
      "0.9216\n"
     ]
    }
   ],
   "source": [
    "classifier.evaluate(test_data, test_labels)\n",
    "print(classifier.evaluate(test_data, test_labels)[\"accuracy\"])"
   ]
  },
  {
   "cell_type": "markdown",
   "metadata": {},
   "source": [
    "### Classify a few data"
   ]
  },
  {
   "cell_type": "code",
   "execution_count": 59,
   "metadata": {
    "collapsed": false
   },
   "outputs": [
    {
     "ename": "NameError",
     "evalue": "name 'tf_test_data' is not defined",
     "output_type": "error",
     "traceback": [
      "\u001b[0;31m---------------------------------------------------------------------------\u001b[0m",
      "\u001b[0;31mNameError\u001b[0m                                 Traceback (most recent call last)",
      "\u001b[0;32m<ipython-input-59-cc24550b4642>\u001b[0m in \u001b[0;36m<module>\u001b[0;34m()\u001b[0m\n\u001b[1;32m      1\u001b[0m \u001b[0;31m# here's one it gets right\u001b[0m\u001b[0;34m\u001b[0m\u001b[0;34m\u001b[0m\u001b[0m\n\u001b[0;32m----> 2\u001b[0;31m \u001b[0mprint\u001b[0m\u001b[0;34m(\u001b[0m\u001b[0;34m\"Predicted {}, Label: {}\"\u001b[0m\u001b[0;34m.\u001b[0m\u001b[0mformat\u001b[0m\u001b[0;34m(\u001b[0m\u001b[0mclassifier\u001b[0m\u001b[0;34m.\u001b[0m\u001b[0mpredict\u001b[0m\u001b[0;34m(\u001b[0m\u001b[0mtf_test_data\u001b[0m\u001b[0;34m[\u001b[0m\u001b[0;36m0\u001b[0m\u001b[0;34m]\u001b[0m\u001b[0;34m)\u001b[0m\u001b[0;34m,\u001b[0m \u001b[0mtf_test_labels\u001b[0m\u001b[0;34m[\u001b[0m\u001b[0;36m0\u001b[0m\u001b[0;34m]\u001b[0m\u001b[0;34m)\u001b[0m\u001b[0;34m)\u001b[0m\u001b[0;34m\u001b[0m\u001b[0m\n\u001b[0m\u001b[1;32m      3\u001b[0m \u001b[0mdisplay\u001b[0m\u001b[0;34m(\u001b[0m\u001b[0;36m0\u001b[0m\u001b[0;34m)\u001b[0m\u001b[0;34m\u001b[0m\u001b[0m\n",
      "\u001b[0;31mNameError\u001b[0m: name 'tf_test_data' is not defined"
     ]
    }
   ],
   "source": [
    "# here's one it gets right\n",
    "print(\"Predicted {}, Label: {}\".format(classifier.predict(tf_test_data[0]), tf_test_labels[0]))\n",
    "display(0)"
   ]
  },
  {
   "cell_type": "markdown",
   "metadata": {},
   "source": [
    "### Visualizing the weights"
   ]
  },
  {
   "cell_type": "code",
   "execution_count": 50,
   "metadata": {
    "collapsed": false
   },
   "outputs": [
    {
     "data": {
      "image/png": "[encoded data removed]",
      "text/plain": [
       "<matplotlib.figure.Figure at 0x12343acf8>"
      ]
     },
     "metadata": {},
     "output_type": "display_data"
    }
   ],
   "source": [
    "weights = classifier.weights_\n",
    "f, axes = plt.subplots(2, 5, figsize=(10,4))\n",
    "axes = axes.reshape(-1)\n",
    "for i in range(len(axes)):\n",
    "    a = axes[i]\n",
    "    a.imshow(weights.T[i].reshape(28, 28), cmap=plt.cm.seismic)\n",
    "    a.set_title(i)\n",
    "    a.set_xticks(()) # ticks be gone\n",
    "    a.set_yticks(())\n",
    "plt.show()"
   ]
  },
  {
   "cell_type": "markdown",
   "metadata": {},
   "source": [
    "## Building a convolution network"
   ]
  },
  {
   "cell_type": "code",
   "execution_count": null,
   "metadata": {
    "collapsed": true
   },
   "outputs": [],
   "source": []
  }
 ],
 "metadata": {
  "kernelspec": {
   "display_name": "Python 3",
   "language": "python",
   "name": "python3"
  },
  "language_info": {
   "codemirror_mode": {
    "name": "ipython",
    "version": 3
   },
   "file_extension": ".py",
   "mimetype": "text/x-python",
   "name": "python",
   "nbconvert_exporter": "python",
   "pygments_lexer": "ipython3",
   "version": "3.5.3"
  }
 },
 "nbformat": 4,
 "nbformat_minor": 0
}
